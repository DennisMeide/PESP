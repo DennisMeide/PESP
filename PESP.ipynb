{
 "cells": [
  {
   "cell_type": "code",
   "execution_count": 300,
   "metadata": {},
   "outputs": [],
   "source": [
    "import pulp as pl\n",
    "from gurobipy import Model, itertools, GRB\n",
    "from collections import OrderedDict\n",
    "import os"
   ]
  },
  {
   "cell_type": "code",
   "execution_count": 301,
   "metadata": {},
   "outputs": [],
   "source": [
    "class Activity():\n",
    "    ARRIVAL = \"Arrival\"\n",
    "    DEPARTURE = \"Departure\"\n",
    "\n",
    "class Station():\n",
    "    def __init__(self, name, data) -> None:\n",
    "        self.name = name\n",
    "        self.data = data\n",
    "    \n",
    "class Edge(object):\n",
    "    def __init__(self, nDEP, nARR, lb, ub) -> None:\n",
    "        self.nodeDEP = nDEP\n",
    "        self.nodeARR = nARR\n",
    "        self.lb = lb\n",
    "        self.ub = ub\n",
    "\n",
    "    def __hash__(self) -> int:\n",
    "        return hash((self.nodeDEP, self.nodeARR, self.lb, self.ub))\n",
    "    \n",
    "    def __eq__(self, other: object) -> bool:\n",
    "        return (self.nodeDEP, self.nodeARR, self.lb, self.ub) == (other.nodeDEP, other.nodeARR, other.lb, other.ub)\n",
    "    \n",
    "    def __ne__(self, other: object) -> bool:\n",
    "        return not (self == other)\n",
    "    \n",
    "    def __str__(self) -> str:\n",
    "        return \"(%s,%s,%s,%s)\" % (self.nodeDEP, self.nodeARR, self.lb, self.ub)\n",
    "    \n",
    "class Node(object):\n",
    "    def __init__(self, line, activity, station) -> None:\n",
    "        self.line = line\n",
    "        self.activity = activity\n",
    "        self.station = station\n",
    "    \n",
    "    def __hash__(self) -> int:\n",
    "        return hash((self.line, self.activity, self.station))\n",
    "    \n",
    "    def __eq__(self, other: object) -> bool:\n",
    "        return (self.line, self.activity, self.station) == (other.line, other.activity, other.station)\n",
    "    \n",
    "    def __ne__(self, other: object) -> bool:\n",
    "        return not self == other\n",
    "    \n",
    "    def __str__(self) -> str:\n",
    "        return \"(%s,%s,%s)\" % (self.line, self.activity, self.station)\n",
    "\n",
    "class Graph(object):\n",
    "    def __init__(self):\n",
    "        # Graph-Objekt\n",
    "        self._graph_dict = OrderedDict()\n",
    "\n",
    "    def nodes(self):\n",
    "        # Alle Knoten des Graphen\n",
    "        return list(self._graph_dict.keys())\n",
    "\n",
    "    def edges(self):\n",
    "        # Alle Kanten eines Graphen\n",
    "        return self.init_edges()\n",
    "\n",
    "    def add_node(self, node):\n",
    "        # Wenn Knoten nicht existiert\n",
    "        if node not in self._graph_dict:\n",
    "            # Fuege Knoten mit leerer Liste hinzu\n",
    "            self._graph_dict[node] = []\n",
    "\n",
    "    def add_edge(self, edge):\n",
    "        # Wenn Vertex schon in Graph ist\n",
    "        if edge.nodeDEP in self._graph_dict:\n",
    "            # Haenge Kante an Vertex\n",
    "            self._graph_dict[edge.nodeDEP].append(edge)\n",
    "        else:\n",
    "            # Fuege Kante an Vertex\n",
    "            self._graph_dict[edge.nodeDEP] = [edge]\n",
    "\n",
    "    def init_edges(self):\n",
    "        edges = []\n",
    "        for node in self._graph_dict:\n",
    "            for neighbour_edges in self._graph_dict[node]:\n",
    "                if isinstance(neighbour_edges, Edge):\n",
    "                    neighbour_edges = [neighbour_edges]\n",
    "                for neighbour_edge in neighbour_edges:\n",
    "                    assert isinstance(neighbour_edge, Edge)\n",
    "                    # if neighbour_edge not in edges:\n",
    "                    edges.append(neighbour_edge)\n",
    "        return edges\n",
    "\n",
    "    def __str__(self):\n",
    "        res = \"Nodes: \"\n",
    "        for k in self._graph_dict:\n",
    "            res += str(k) + \" \"\n",
    "        res += \"\\nEdges: \"\n",
    "        for edge in self.init_edges():\n",
    "            res += str(edge) + \" \"\n",
    "        return res\n",
    "\n",
    "    @property\n",
    "    def graph_dict(self):\n",
    "        return self._graph_dict"
   ]
  },
  {
   "cell_type": "markdown",
   "metadata": {},
   "source": [
    "### Linien-Daten"
   ]
  },
  {
   "cell_type": "code",
   "execution_count": 302,
   "metadata": {},
   "outputs": [],
   "source": [
    "lines = OrderedDict()"
   ]
  },
  {
   "cell_type": "markdown",
   "metadata": {},
   "source": [
    "#### RE6"
   ]
  },
  {
   "cell_type": "markdown",
   "metadata": {},
   "source": [
    "##### Stationen"
   ]
  },
  {
   "cell_type": "code",
   "execution_count": 303,
   "metadata": {},
   "outputs": [],
   "source": [
    "re6_stations = OrderedDict()\n",
    "stops = open(os.getcwd() + \"/Lines/RE6/Stations/RE6 Fahrplan.txt\").readlines()\n",
    "stops = [x.replace('\\n', '') for x in stops]\n",
    "\n",
    "for station in stops:\n",
    "    re6_stations[station] = None"
   ]
  },
  {
   "cell_type": "markdown",
   "metadata": {},
   "source": [
    "##### Haltezeit"
   ]
  },
  {
   "cell_type": "markdown",
   "metadata": {},
   "source": [
    "Alle Haltezeiten auslesen"
   ]
  },
  {
   "cell_type": "code",
   "execution_count": 304,
   "metadata": {},
   "outputs": [],
   "source": [
    "all_times = []\n",
    "times = open(os.getcwd() + \"/Lines/RE6/Stops/RE6 Haltezeit.txt\").readlines()\n",
    "for line in times:\n",
    "    lb, ub = line.strip().split(\",\")\n",
    "    all_times.append((int(lb),int(ub)))"
   ]
  },
  {
   "cell_type": "markdown",
   "metadata": {},
   "source": [
    "Haltezeiten zu Station zuordnen"
   ]
  },
  {
   "cell_type": "code",
   "execution_count": 305,
   "metadata": {},
   "outputs": [],
   "source": [
    "for i, station in enumerate(re6_stations):\n",
    "    re6_stations[station] = all_times[i]"
   ]
  },
  {
   "cell_type": "markdown",
   "metadata": {},
   "source": [
    "##### Fahrzeit"
   ]
  },
  {
   "cell_type": "markdown",
   "metadata": {},
   "source": [
    "Alle Fahrzeiten auslesen"
   ]
  },
  {
   "cell_type": "code",
   "execution_count": 306,
   "metadata": {},
   "outputs": [],
   "source": [
    "all_times = []\n",
    "times = open(os.getcwd() + \"/Lines/RE6/Drives/RE6 Fahrzeit.txt\").readlines()\n",
    "for line in times:\n",
    "    lb, ub = line.strip().split(\",\")\n",
    "    all_times.append((int(lb),int(ub)))"
   ]
  },
  {
   "cell_type": "markdown",
   "metadata": {},
   "source": [
    "Streckenpaare erstellen"
   ]
  },
  {
   "cell_type": "code",
   "execution_count": 307,
   "metadata": {},
   "outputs": [],
   "source": [
    "pairs = []\n",
    "prev = None\n",
    "for station in re6_stations:\n",
    "  if prev is not None:\n",
    "    pair = (prev, station)\n",
    "    pairs.append(pair)\n",
    "  prev = station"
   ]
  },
  {
   "cell_type": "markdown",
   "metadata": {},
   "source": [
    "Fahrzeit zu Strecken ordnen"
   ]
  },
  {
   "cell_type": "code",
   "execution_count": 308,
   "metadata": {},
   "outputs": [],
   "source": [
    "re6_drives = OrderedDict()\n",
    "for i, pair in enumerate(pairs):\n",
    "    re6_drives[pair] = all_times[i]"
   ]
  },
  {
   "cell_type": "markdown",
   "metadata": {},
   "source": [
    "#### RB69"
   ]
  },
  {
   "cell_type": "markdown",
   "metadata": {},
   "source": [
    "##### Stationen"
   ]
  },
  {
   "cell_type": "code",
   "execution_count": 309,
   "metadata": {},
   "outputs": [],
   "source": [
    "rb69_stations = OrderedDict()\n",
    "stops = open(os.getcwd() + \"/Lines/RB69/Stations/RB69 Fahrplan.txt\").readlines()\n",
    "stops = [x.replace('\\n', '') for x in stops]\n",
    "\n",
    "for station in stops:\n",
    "    rb69_stations[station] = None"
   ]
  },
  {
   "cell_type": "markdown",
   "metadata": {},
   "source": [
    "##### Haltezeit"
   ]
  },
  {
   "cell_type": "markdown",
   "metadata": {},
   "source": [
    "Alle Haltezeiten auslesen"
   ]
  },
  {
   "cell_type": "code",
   "execution_count": 310,
   "metadata": {},
   "outputs": [],
   "source": [
    "all_times = []\n",
    "times = open(os.getcwd() + \"/Lines/RB69/Stops/RB69 Haltezeit.txt\").readlines()\n",
    "for line in times:\n",
    "    lb, ub = line.strip().split(\",\")\n",
    "    all_times.append((int(lb),int(ub)))"
   ]
  },
  {
   "cell_type": "markdown",
   "metadata": {},
   "source": [
    "Haltezeiten zu Stationen zuordnen"
   ]
  },
  {
   "cell_type": "code",
   "execution_count": 311,
   "metadata": {},
   "outputs": [],
   "source": [
    "for i, station in enumerate(rb69_stations):\n",
    "    rb69_stations[station] = all_times[i]"
   ]
  },
  {
   "cell_type": "markdown",
   "metadata": {},
   "source": [
    "##### Fahrzeit"
   ]
  },
  {
   "cell_type": "markdown",
   "metadata": {},
   "source": [
    "Alle Fahrzeiten auslesen"
   ]
  },
  {
   "cell_type": "code",
   "execution_count": 312,
   "metadata": {},
   "outputs": [],
   "source": [
    "all_times = []\n",
    "times = open(os.getcwd() + \"/Lines/RB69/Drives/RB69 Fahrzeit.txt\").readlines()\n",
    "for line in times:\n",
    "    lb, ub = line.strip().split(\",\")\n",
    "    all_times.append((int(lb),int(ub)))"
   ]
  },
  {
   "cell_type": "markdown",
   "metadata": {},
   "source": [
    "Streckenpaare erstellen"
   ]
  },
  {
   "cell_type": "code",
   "execution_count": 313,
   "metadata": {},
   "outputs": [],
   "source": [
    "pairs = []\n",
    "prev = None\n",
    "for station in rb69_stations:\n",
    "  if prev is not None:\n",
    "    pair = (prev, station)\n",
    "    pairs.append(pair)\n",
    "  prev = station"
   ]
  },
  {
   "cell_type": "markdown",
   "metadata": {},
   "source": [
    "Fahrzeit zu Strecken zuordnen"
   ]
  },
  {
   "cell_type": "code",
   "execution_count": 314,
   "metadata": {},
   "outputs": [],
   "source": [
    "rb69_drives = OrderedDict()\n",
    "for i, pair in enumerate(pairs):\n",
    "    rb69_drives[pair] = all_times[i]"
   ]
  },
  {
   "cell_type": "markdown",
   "metadata": {},
   "source": [
    "#### RB67"
   ]
  },
  {
   "cell_type": "markdown",
   "metadata": {},
   "source": [
    "##### Stationen"
   ]
  },
  {
   "cell_type": "code",
   "execution_count": 315,
   "metadata": {},
   "outputs": [],
   "source": [
    "rb67_stations = OrderedDict()\n",
    "stops = open(os.getcwd() + \"/Lines/RB67/Stations/RB67 Fahrplan.txt\").readlines()\n",
    "stops = [x.replace('\\n', '') for x in stops]\n",
    "\n",
    "for station in stops:\n",
    "    rb67_stations[station] = None"
   ]
  },
  {
   "cell_type": "markdown",
   "metadata": {},
   "source": [
    "##### Haltezeit"
   ]
  },
  {
   "cell_type": "markdown",
   "metadata": {},
   "source": [
    "Alle Haltezeiten auslesen"
   ]
  },
  {
   "cell_type": "code",
   "execution_count": 316,
   "metadata": {},
   "outputs": [],
   "source": [
    "all_times = []\n",
    "times = open(os.getcwd() + \"/Lines/RB67/Stops/RB67 Haltezeit.txt\").readlines()\n",
    "for line in times:\n",
    "    lb, ub = line.strip().split(\",\")\n",
    "    all_times.append((int(lb),int(ub)))"
   ]
  },
  {
   "cell_type": "markdown",
   "metadata": {},
   "source": [
    "Haltezeiten zu Stationen zuordnen"
   ]
  },
  {
   "cell_type": "code",
   "execution_count": 317,
   "metadata": {},
   "outputs": [],
   "source": [
    "for i, station in enumerate(rb67_stations):\n",
    "    rb67_stations[station] = all_times[i]"
   ]
  },
  {
   "cell_type": "markdown",
   "metadata": {},
   "source": [
    "##### Fahrzeit"
   ]
  },
  {
   "cell_type": "markdown",
   "metadata": {},
   "source": [
    "Alle Fahrzeiten auslesen"
   ]
  },
  {
   "cell_type": "code",
   "execution_count": 318,
   "metadata": {},
   "outputs": [],
   "source": [
    "all_times = []\n",
    "times = open(os.getcwd() + \"/Lines/RB67/Drives/RB67 Fahrzeit.txt\").readlines()\n",
    "for line in times:\n",
    "    lb, ub = line.strip().split(\",\")\n",
    "    all_times.append((int(lb),int(ub)))"
   ]
  },
  {
   "cell_type": "markdown",
   "metadata": {},
   "source": [
    "Streckenpaare erstellen"
   ]
  },
  {
   "cell_type": "code",
   "execution_count": 319,
   "metadata": {},
   "outputs": [],
   "source": [
    "pairs = []\n",
    "prev = None\n",
    "for station in rb67_stations:\n",
    "  if prev is not None:\n",
    "    pair = (prev, station)\n",
    "    pairs.append(pair)\n",
    "  prev = station"
   ]
  },
  {
   "cell_type": "markdown",
   "metadata": {},
   "source": [
    "Fahrzeit zu Strecken zuordnen"
   ]
  },
  {
   "cell_type": "code",
   "execution_count": 320,
   "metadata": {},
   "outputs": [],
   "source": [
    "rb67_drives = OrderedDict()\n",
    "for i, pair in enumerate(pairs):\n",
    "    rb67_drives[pair] = all_times[i]"
   ]
  },
  {
   "cell_type": "markdown",
   "metadata": {},
   "source": [
    "#### Linien zusammefassen"
   ]
  },
  {
   "cell_type": "code",
   "execution_count": 321,
   "metadata": {},
   "outputs": [],
   "source": [
    "lines[\"RE6\"] = (re6_stations, re6_drives)\n",
    "lines[\"RB69\"] = (rb69_stations, rb69_drives)\n",
    "lines[\"RB67\"] = (rb67_stations, rb67_drives)\n",
    "\n",
    "LINES_DATA = lines"
   ]
  },
  {
   "cell_type": "markdown",
   "metadata": {},
   "source": [
    "### Parameter festlegen"
   ]
  },
  {
   "cell_type": "code",
   "execution_count": 322,
   "metadata": {},
   "outputs": [],
   "source": [
    "T = 60 # 60min"
   ]
  },
  {
   "cell_type": "code",
   "execution_count": 323,
   "metadata": {},
   "outputs": [
    {
     "name": "stdout",
     "output_type": "stream",
     "text": [
      "OrderedDict([(('Bielefeld Hbf', 'BI-Brackwede'), (4, 6)), (('BI-Brackwede', 'Isselhorst-Avenwedde'), (3, 5)), (('Isselhorst-Avenwedde', 'Guetersloh Hbf'), (3, 5)), (('Guetersloh Hbf', 'Rheda-Wiedenbrueck'), (4, 6)), (('Rheda-Wiedenbrueck', 'Herzebrock'), (5, 8)), (('Herzebrock', 'Clarholz'), (3, 5)), (('Clarholz', 'Beelen'), (7, 10)), (('Beelen', 'Warendorf'), (6, 9)), (('Warendorf', 'Warendorf-Einen-Muessingen'), (7, 10)), (('Warendorf-Einen-Muessingen', 'Telgte'), (9, 13)), (('Telgte', 'Muenster (Westf) Hbf'), (11, 15))])\n"
     ]
    }
   ],
   "source": [
    "print(rb67_drives)"
   ]
  },
  {
   "cell_type": "markdown",
   "metadata": {},
   "source": [
    "### Erstellen der Graphen"
   ]
  },
  {
   "cell_type": "code",
   "execution_count": 324,
   "metadata": {},
   "outputs": [],
   "source": [
    "graphs = []\n",
    "for line, data in LINES_DATA.items():\n",
    "    start = True\n",
    "    prev_station = None\n",
    "    ff_station = None\n",
    "    prev_nodeARR = None\n",
    "    graph = Graph()\n",
    "    LINE_STATIONS = data[0]\n",
    "    LINE_DRIVES = data[1] \n",
    "    for station in LINE_STATIONS:\n",
    "        if not start:\n",
    "            next_station = station\n",
    "            nodeDEP = Node(line, Activity.DEPARTURE, prev_station)\n",
    "            nodeARR = Node(line, Activity.ARRIVAL, next_station)\n",
    "            edge = Edge(nodeDEP, nodeARR, LINE_DRIVES[(prev_station, next_station)][0], LINE_DRIVES[(prev_station, next_station)][1])\n",
    "            graph.add_node(nodeDEP)\n",
    "            graph.add_node(nodeARR)\n",
    "            graph.add_edge(edge)\n",
    "            prev_station = next_station\n",
    "\n",
    "            if prev_nodeARR is not None:\n",
    "                prev_edge = Edge(prev_nodeARR, nodeDEP, LINE_STATIONS[station][0], LINE_STATIONS[station][1])\n",
    "                graph.add_edge(prev_edge)\n",
    "                prev_nodeARR = nodeARR\n",
    "            else:\n",
    "                prev_nodeARR = nodeARR\n",
    "                continue\n",
    "        else:\n",
    "            start = False\n",
    "            prev_station = station\n",
    "        \n",
    "    graphs.append(graph)"
   ]
  },
  {
   "cell_type": "code",
   "execution_count": 325,
   "metadata": {},
   "outputs": [
    {
     "name": "stdout",
     "output_type": "stream",
     "text": [
      "Nodes: (RE6,Departure,Minden (Westf)) (RE6,Arrival,Porta Westfalica) (RE6,Departure,Porta Westfalica) (RE6,Arrival,Bad Oeynhausen) (RE6,Departure,Bad Oeynhausen) (RE6,Arrival,Loehne (Westf)) (RE6,Departure,Loehne (Westf)) (RE6,Arrival,Herford) (RE6,Departure,Herford) (RE6,Arrival,Bielefeld Hbf) (RE6,Departure,Bielefeld Hbf) (RE6,Arrival,Guetersloh Hbf) (RE6,Departure,Guetersloh Hbf) (RE6,Arrival,Rheda-Wiedenbrueck) (RE6,Departure,Rheda-Wiedenbrueck) (RE6,Arrival,Oelde) (RE6,Departure,Oelde) (RE6,Arrival,Beckum-Neubeckum) (RE6,Departure,Beckum-Neubeckum) (RE6,Arrival,Ahlen (Westf)) (RE6,Departure,Ahlen (Westf)) (RE6,Arrival,Hamm-Heessen) (RE6,Departure,Hamm-Heessen) (RE6,Arrival,Hamm (Westf) Hbf) (RE6,Departure,Hamm (Westf) Hbf) (RE6,Arrival,Kamen) (RE6,Departure,Kamen) (RE6,Arrival,Dortmund Hbf) (RE6,Departure,Dortmund Hbf) (RE6,Arrival,Bochum Hbf) (RE6,Departure,Bochum Hbf) (RE6,Arrival,Wattenscheid) (RE6,Departure,Wattenscheid) (RE6,Arrival,Essen Hbf) (RE6,Departure,Essen Hbf) (RE6,Arrival,Muelheim (Ruhr) Hbf) (RE6,Departure,Muelheim (Ruhr) Hbf) (RE6,Arrival,Duisburg Hbf) (RE6,Departure,Duisburg Hbf) (RE6,Arrival,Duesseldorf Flughafen) (RE6,Departure,Duesseldorf Flughafen) (RE6,Arrival,Duesseldorf Hbf) (RE6,Departure,Duesseldorf Hbf) (RE6,Arrival,Duesseldorf Bilk) (RE6,Departure,Duesseldorf Bilk) (RE6,Arrival,Neuss Hbf) (RE6,Departure,Neuss Hbf) (RE6,Arrival,Dormagen) (RE6,Departure,Dormagen) (RE6,Arrival,Koeln Hbf) (RE6,Departure,Koeln Hbf) (RE6,Arrival,Koeln/Bonn Flughafen) \n",
      "Edges: ((RE6,Departure,Minden (Westf)),(RE6,Arrival,Porta Westfalica),3,5) ((RE6,Arrival,Porta Westfalica),(RE6,Departure,Porta Westfalica),0,1) ((RE6,Departure,Porta Westfalica),(RE6,Arrival,Bad Oeynhausen),4,6) ((RE6,Arrival,Bad Oeynhausen),(RE6,Departure,Bad Oeynhausen),0,1) ((RE6,Departure,Bad Oeynhausen),(RE6,Arrival,Loehne (Westf)),3,5) ((RE6,Arrival,Loehne (Westf)),(RE6,Departure,Loehne (Westf)),0,1) ((RE6,Departure,Loehne (Westf)),(RE6,Arrival,Herford),4,6) ((RE6,Arrival,Herford),(RE6,Departure,Herford),2,3) ((RE6,Departure,Herford),(RE6,Arrival,Bielefeld Hbf),6,8) ((RE6,Arrival,Bielefeld Hbf),(RE6,Departure,Bielefeld Hbf),2,3) ((RE6,Departure,Bielefeld Hbf),(RE6,Arrival,Guetersloh Hbf),7,9) ((RE6,Arrival,Guetersloh Hbf),(RE6,Departure,Guetersloh Hbf),0,1) ((RE6,Departure,Guetersloh Hbf),(RE6,Arrival,Rheda-Wiedenbrueck),4,6) ((RE6,Arrival,Rheda-Wiedenbrueck),(RE6,Departure,Rheda-Wiedenbrueck),0,1) ((RE6,Departure,Rheda-Wiedenbrueck),(RE6,Arrival,Oelde),5,8) ((RE6,Arrival,Oelde),(RE6,Departure,Oelde),0,1) ((RE6,Departure,Oelde),(RE6,Arrival,Beckum-Neubeckum),4,6) ((RE6,Arrival,Beckum-Neubeckum),(RE6,Departure,Beckum-Neubeckum),0,1) ((RE6,Departure,Beckum-Neubeckum),(RE6,Arrival,Ahlen (Westf)),5,8) ((RE6,Arrival,Ahlen (Westf)),(RE6,Departure,Ahlen (Westf)),0,1) ((RE6,Departure,Ahlen (Westf)),(RE6,Arrival,Hamm-Heessen),3,5) ((RE6,Arrival,Hamm-Heessen),(RE6,Departure,Hamm-Heessen),1,2) ((RE6,Departure,Hamm-Heessen),(RE6,Arrival,Hamm (Westf) Hbf),2,4) ((RE6,Arrival,Hamm (Westf) Hbf),(RE6,Departure,Hamm (Westf) Hbf),0,1) ((RE6,Departure,Hamm (Westf) Hbf),(RE6,Arrival,Kamen),7,10) ((RE6,Arrival,Kamen),(RE6,Departure,Kamen),2,3) ((RE6,Departure,Kamen),(RE6,Arrival,Dortmund Hbf),11,16) ((RE6,Arrival,Dortmund Hbf),(RE6,Departure,Dortmund Hbf),0,1) ((RE6,Departure,Dortmund Hbf),(RE6,Arrival,Bochum Hbf),10,14) ((RE6,Arrival,Bochum Hbf),(RE6,Departure,Bochum Hbf),0,1) ((RE6,Departure,Bochum Hbf),(RE6,Arrival,Wattenscheid),4,6) ((RE6,Arrival,Wattenscheid),(RE6,Departure,Wattenscheid),1,2) ((RE6,Departure,Wattenscheid),(RE6,Arrival,Essen Hbf),5,8) ((RE6,Arrival,Essen Hbf),(RE6,Departure,Essen Hbf),0,1) ((RE6,Departure,Essen Hbf),(RE6,Arrival,Muelheim (Ruhr) Hbf),4,6) ((RE6,Arrival,Muelheim (Ruhr) Hbf),(RE6,Departure,Muelheim (Ruhr) Hbf),3,4) ((RE6,Departure,Muelheim (Ruhr) Hbf),(RE6,Arrival,Duisburg Hbf),5,8) ((RE6,Arrival,Duisburg Hbf),(RE6,Departure,Duisburg Hbf),0,1) ((RE6,Departure,Duisburg Hbf),(RE6,Arrival,Duesseldorf Flughafen),7,10) ((RE6,Arrival,Duesseldorf Flughafen),(RE6,Departure,Duesseldorf Flughafen),6,8) ((RE6,Departure,Duesseldorf Flughafen),(RE6,Arrival,Duesseldorf Hbf),7,10) ((RE6,Arrival,Duesseldorf Hbf),(RE6,Departure,Duesseldorf Hbf),0,1) ((RE6,Departure,Duesseldorf Hbf),(RE6,Arrival,Duesseldorf Bilk),1,3) ((RE6,Arrival,Duesseldorf Bilk),(RE6,Departure,Duesseldorf Bilk),0,1) ((RE6,Departure,Duesseldorf Bilk),(RE6,Arrival,Neuss Hbf),6,9) ((RE6,Arrival,Neuss Hbf),(RE6,Departure,Neuss Hbf),0,1) ((RE6,Departure,Neuss Hbf),(RE6,Arrival,Dormagen),11,15) ((RE6,Arrival,Dormagen),(RE6,Departure,Dormagen),4,6) ((RE6,Departure,Dormagen),(RE6,Arrival,Koeln Hbf),14,20) ((RE6,Arrival,Koeln Hbf),(RE6,Departure,Koeln Hbf),8,10) ((RE6,Departure,Koeln Hbf),(RE6,Arrival,Koeln/Bonn Flughafen),12,16) \n",
      "Nodes: (RB69,Departure,Muenster (Westf) Hbf) (RB69,Arrival,MS-Hiltrup) (RB69,Departure,MS-Hiltrup) (RB69,Arrival,Rinkerode) (RB69,Departure,Rinkerode) (RB69,Arrival,Drensteinfurt) (RB69,Departure,Drensteinfurt) (RB69,Arrival,Mersch (Westf)) (RB69,Departure,Mersch (Westf)) (RB69,Arrival,Bockum-Hoevel) (RB69,Departure,Bockum-Hoevel) (RB69,Arrival,Hamm (Westf) Hbf) (RB69,Departure,Hamm (Westf) Hbf) (RB69,Arrival,Hamm-Heessen) (RB69,Departure,Hamm-Heessen) (RB69,Arrival,Ahlen (Westf)) (RB69,Departure,Ahlen (Westf)) (RB69,Arrival,Beckum-Neubeckum) (RB69,Departure,Beckum-Neubeckum) (RB69,Arrival,Oelde) (RB69,Departure,Oelde) (RB69,Arrival,Rheda-Wiedenbrueck) (RB69,Departure,Rheda-Wiedenbrueck) (RB69,Arrival,Guetersloh Hbf) (RB69,Departure,Guetersloh Hbf) (RB69,Arrival,Isselhorst-Avenwedde) (RB69,Departure,Isselhorst-Avenwedde) (RB69,Arrival,BI-Brackwede) (RB69,Departure,BI-Brackwede) (RB69,Arrival,Bielefeld Hbf) \n",
      "Edges: ((RB69,Departure,Muenster (Westf) Hbf),(RB69,Arrival,MS-Hiltrup),3,5) ((RB69,Arrival,MS-Hiltrup),(RB69,Departure,MS-Hiltrup),0,1) ((RB69,Departure,MS-Hiltrup),(RB69,Arrival,Rinkerode),3,5) ((RB69,Arrival,Rinkerode),(RB69,Departure,Rinkerode),0,1) ((RB69,Departure,Rinkerode),(RB69,Arrival,Drensteinfurt),3,5) ((RB69,Arrival,Drensteinfurt),(RB69,Departure,Drensteinfurt),0,1) ((RB69,Departure,Drensteinfurt),(RB69,Arrival,Mersch (Westf)),2,4) ((RB69,Arrival,Mersch (Westf)),(RB69,Departure,Mersch (Westf)),0,1) ((RB69,Departure,Mersch (Westf)),(RB69,Arrival,Bockum-Hoevel),3,5) ((RB69,Arrival,Bockum-Hoevel),(RB69,Departure,Bockum-Hoevel),3,5) ((RB69,Departure,Bockum-Hoevel),(RB69,Arrival,Hamm (Westf) Hbf),3,5) ((RB69,Arrival,Hamm (Westf) Hbf),(RB69,Departure,Hamm (Westf) Hbf),0,1) ((RB69,Departure,Hamm (Westf) Hbf),(RB69,Arrival,Hamm-Heessen),4,6) ((RB69,Arrival,Hamm-Heessen),(RB69,Departure,Hamm-Heessen),0,1) ((RB69,Departure,Hamm-Heessen),(RB69,Arrival,Ahlen (Westf)),2,4) ((RB69,Arrival,Ahlen (Westf)),(RB69,Departure,Ahlen (Westf)),0,1) ((RB69,Departure,Ahlen (Westf)),(RB69,Arrival,Beckum-Neubeckum),3,5) ((RB69,Arrival,Beckum-Neubeckum),(RB69,Departure,Beckum-Neubeckum),0,1) ((RB69,Departure,Beckum-Neubeckum),(RB69,Arrival,Oelde),4,6) ((RB69,Arrival,Oelde),(RB69,Departure,Oelde),0,1) ((RB69,Departure,Oelde),(RB69,Arrival,Rheda-Wiedenbrueck),5,8) ((RB69,Arrival,Rheda-Wiedenbrueck),(RB69,Departure,Rheda-Wiedenbrueck),0,1) ((RB69,Departure,Rheda-Wiedenbrueck),(RB69,Arrival,Guetersloh Hbf),4,6) ((RB69,Arrival,Guetersloh Hbf),(RB69,Departure,Guetersloh Hbf),0,1) ((RB69,Departure,Guetersloh Hbf),(RB69,Arrival,Isselhorst-Avenwedde),3,5) ((RB69,Arrival,Isselhorst-Avenwedde),(RB69,Departure,Isselhorst-Avenwedde),0,1) ((RB69,Departure,Isselhorst-Avenwedde),(RB69,Arrival,BI-Brackwede),3,5) ((RB69,Arrival,BI-Brackwede),(RB69,Departure,BI-Brackwede),8,10) ((RB69,Departure,BI-Brackwede),(RB69,Arrival,Bielefeld Hbf),4,6) \n",
      "Nodes: (RB67,Departure,Bielefeld Hbf) (RB67,Arrival,BI-Brackwede) (RB67,Departure,BI-Brackwede) (RB67,Arrival,Isselhorst-Avenwedde) (RB67,Departure,Isselhorst-Avenwedde) (RB67,Arrival,Guetersloh Hbf) (RB67,Departure,Guetersloh Hbf) (RB67,Arrival,Rheda-Wiedenbrueck) (RB67,Departure,Rheda-Wiedenbrueck) (RB67,Arrival,Herzebrock) (RB67,Departure,Herzebrock) (RB67,Arrival,Clarholz) (RB67,Departure,Clarholz) (RB67,Arrival,Beelen) (RB67,Departure,Beelen) (RB67,Arrival,Warendorf) (RB67,Departure,Warendorf) (RB67,Arrival,Warendorf-Einen-Muessingen) (RB67,Departure,Warendorf-Einen-Muessingen) (RB67,Arrival,Telgte) (RB67,Departure,Telgte) (RB67,Arrival,Muenster (Westf) Hbf) \n",
      "Edges: ((RB67,Departure,Bielefeld Hbf),(RB67,Arrival,BI-Brackwede),4,6) ((RB67,Arrival,BI-Brackwede),(RB67,Departure,BI-Brackwede),0,1) ((RB67,Departure,BI-Brackwede),(RB67,Arrival,Isselhorst-Avenwedde),3,5) ((RB67,Arrival,Isselhorst-Avenwedde),(RB67,Departure,Isselhorst-Avenwedde),0,1) ((RB67,Departure,Isselhorst-Avenwedde),(RB67,Arrival,Guetersloh Hbf),3,5) ((RB67,Arrival,Guetersloh Hbf),(RB67,Departure,Guetersloh Hbf),0,1) ((RB67,Departure,Guetersloh Hbf),(RB67,Arrival,Rheda-Wiedenbrueck),4,6) ((RB67,Arrival,Rheda-Wiedenbrueck),(RB67,Departure,Rheda-Wiedenbrueck),0,1) ((RB67,Departure,Rheda-Wiedenbrueck),(RB67,Arrival,Herzebrock),5,8) ((RB67,Arrival,Herzebrock),(RB67,Departure,Herzebrock),0,1) ((RB67,Departure,Herzebrock),(RB67,Arrival,Clarholz),3,5) ((RB67,Arrival,Clarholz),(RB67,Departure,Clarholz),1,2) ((RB67,Departure,Clarholz),(RB67,Arrival,Beelen),7,10) ((RB67,Arrival,Beelen),(RB67,Departure,Beelen),2,3) ((RB67,Departure,Beelen),(RB67,Arrival,Warendorf),6,9) ((RB67,Arrival,Warendorf),(RB67,Departure,Warendorf),0,1) ((RB67,Departure,Warendorf),(RB67,Arrival,Warendorf-Einen-Muessingen),7,10) ((RB67,Arrival,Warendorf-Einen-Muessingen),(RB67,Departure,Warendorf-Einen-Muessingen),1,2) ((RB67,Departure,Warendorf-Einen-Muessingen),(RB67,Arrival,Telgte),9,13) ((RB67,Arrival,Telgte),(RB67,Departure,Telgte),8,10) ((RB67,Departure,Telgte),(RB67,Arrival,Muenster (Westf) Hbf),11,15) \n"
     ]
    }
   ],
   "source": [
    "for g in graphs:\n",
    "    print(g)"
   ]
  },
  {
   "cell_type": "markdown",
   "metadata": {},
   "source": []
  },
  {
   "cell_type": "code",
   "execution_count": 326,
   "metadata": {},
   "outputs": [
    {
     "ename": "KeyError",
     "evalue": "<__main__.Node object at 0x114acfeb0>",
     "output_type": "error",
     "traceback": [
      "\u001b[0;31m---------------------------------------------------------------------------\u001b[0m",
      "\u001b[0;31mKeyError\u001b[0m                                  Traceback (most recent call last)",
      "Cell \u001b[0;32mIn[326], line 55\u001b[0m\n\u001b[1;32m     53\u001b[0m \u001b[38;5;28;01mif\u001b[39;00m vert1\u001b[38;5;241m.\u001b[39mstation \u001b[38;5;241m==\u001b[39m vert2\u001b[38;5;241m.\u001b[39mstation \u001b[38;5;129;01mand\u001b[39;00m vert1\u001b[38;5;241m.\u001b[39mactivity \u001b[38;5;241m==\u001b[39m \u001b[38;5;124m\"\u001b[39m\u001b[38;5;124mArrival\u001b[39m\u001b[38;5;124m\"\u001b[39m \u001b[38;5;129;01mand\u001b[39;00m vert2\u001b[38;5;241m.\u001b[39mactivity \u001b[38;5;241m==\u001b[39m \u001b[38;5;124m'\u001b[39m\u001b[38;5;124mDeparture\u001b[39m\u001b[38;5;124m'\u001b[39m:\n\u001b[1;32m     54\u001b[0m     t1 \u001b[38;5;241m=\u001b[39m dict_of_variables[vert1]\n\u001b[0;32m---> 55\u001b[0m     t2 \u001b[38;5;241m=\u001b[39m \u001b[43mdict_of_variables\u001b[49m\u001b[43m[\u001b[49m\u001b[43mvert2\u001b[49m\u001b[43m]\u001b[49m\n\u001b[1;32m     56\u001b[0m     p \u001b[38;5;241m=\u001b[39m bb_model\u001b[38;5;241m.\u001b[39maddVar(vtype\u001b[38;5;241m=\u001b[39mGRB\u001b[38;5;241m.\u001b[39mINTEGER, name\u001b[38;5;241m=\u001b[39m\u001b[38;5;124m\"\u001b[39m\u001b[38;5;124mPB_\u001b[39m\u001b[38;5;124m\"\u001b[39m \u001b[38;5;241m+\u001b[39m \u001b[38;5;28mstr\u001b[39m(j))\n\u001b[1;32m     57\u001b[0m     bb_model\u001b[38;5;241m.\u001b[39mupdate()\n",
      "\u001b[0;31mKeyError\u001b[0m: <__main__.Node object at 0x114acfeb0>"
     ]
    }
   ],
   "source": [
    "#def generate_bb_model(self):\n",
    "\"\"\"\n",
    ":type graphs: list of LineGraph\n",
    "\"\"\"\n",
    "bb_model = Model(\"PESP\")\n",
    "j = 0\n",
    "objective_function = 0\n",
    "dict_of_variables = {}\n",
    "for graph in graphs:\n",
    "    vertices = graph.nodes()\n",
    "    edges = graph.edges()\n",
    "\n",
    "    for edge in edges:\n",
    "        vertex1 = edge.nodeDEP\n",
    "        vertex2 = edge.nodeARR\n",
    "        lin_expr_for_edge = 0\n",
    "        p = bb_model.addVar(vtype=GRB.INTEGER, name=\"P_\" + str(j))\n",
    "        bb_model.update()\n",
    "        bb_model.addConstr(p <= 2, \"CP_%s_1\" % str(j))\n",
    "        bb_model.addConstr(p >= 0, \"CP_%s_2\" % str(j))\n",
    "\n",
    "        for vertex in vertices:\n",
    "            if vertex in dict_of_variables.keys():\n",
    "                t = dict_of_variables[vertex]\n",
    "            else:\n",
    "                t = bb_model.addVar(vtype=GRB.INTEGER, name=str(vertex))\n",
    "                dict_of_variables[vertex] = t\n",
    "                bb_model.update()\n",
    "                bb_model.addConstr(t <= T - 1, \"CT_%s_1\" % str(j))\n",
    "                bb_model.addConstr(t >= 0, \"CT_%s_2\" % str(j))\n",
    "\n",
    "            val = 0\n",
    "            if vertex == vertex1:\n",
    "                val = -1\n",
    "            elif vertex == vertex2:\n",
    "                val = 1\n",
    "\n",
    "            lin_expr_for_edge += val * t\n",
    "\n",
    "        bb_model.addConstr(lin_expr_for_edge + p * T <= edge.ub, \"CE_%s_1\" % str(j))\n",
    "        bb_model.addConstr(lin_expr_for_edge + p * T >= edge.lb, \"CE_%s_2\" % str(j))\n",
    "        objective_function += lin_expr_for_edge + p * T - edge.lb\n",
    "        j += 1\n",
    "\n",
    "    # between lines we need to add nes constrains\n",
    "    for pair in itertools.combinations(graphs, r=2):\n",
    "        graph1 = pair[0]\n",
    "        graph2 = pair[1]\n",
    "\n",
    "        j = 1\n",
    "        for vert1 in graph1.nodes():\n",
    "            for vert2 in graph2.nodes():\n",
    "                if vert1.station == vert2.station and vert1.activity == \"Arrival\" and vert2.activity == 'Departure':\n",
    "                    t1 = dict_of_variables[vert1]\n",
    "                    t2 = dict_of_variables[vert2]\n",
    "                    p = bb_model.addVar(vtype=GRB.INTEGER, name=\"PB_\" + str(j))\n",
    "                    bb_model.update()\n",
    "                    bb_model.addConstr(p <= 2, \"CPE_%s_1\" % str(j))\n",
    "                    bb_model.addConstr(p >= 0, \"CPE_%s_2\" % str(j))\n",
    "                    # >= and <=\n",
    "                    bb_model.addConstr(t2 - t1 + p * T <= ub, \"CB_%s_1\" % str(j))\n",
    "                    bb_model.addConstr(t2 - t1 + p * T >= lb, \"C_%s_2\" % str(j))\n",
    "                    objective_function += t2 - t1 + p * T - lb\n",
    "                    j += 1\n",
    "\n",
    "    bb_model.update()\n",
    "    bb_model.setObjective(objective_function, GRB.MINIMIZE)\n",
    "    bb_model.optimize()\n",
    "\n",
    "\n",
    "\n"
   ]
  }
 ],
 "metadata": {
  "kernelspec": {
   "display_name": "base",
   "language": "python",
   "name": "python3"
  },
  "language_info": {
   "codemirror_mode": {
    "name": "ipython",
    "version": 3
   },
   "file_extension": ".py",
   "mimetype": "text/x-python",
   "name": "python",
   "nbconvert_exporter": "python",
   "pygments_lexer": "ipython3",
   "version": "3.9.6"
  }
 },
 "nbformat": 4,
 "nbformat_minor": 2
}
